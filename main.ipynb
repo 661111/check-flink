{
 "cells": [
  {
   "cell_type": "code",
   "execution_count": 3,
   "metadata": {},
   "outputs": [
    {
     "name": "stdout",
     "output_type": "stream",
     "text": [
      "['https://blog.qyliu.top/', 'https://www.zouht.com/', 'https://akilar.top/', 'https://blog.zhheo.com/', 'https://blog.anheyu.com/', 'https://dusays.com', 'https://tianli-blog.club/', 'https://noionion.top/', 'https://blog.leonus.cn/', 'https://blog.imsyy.top/', 'https://blog.duolaa.asia/', 'https://blog.xsot.cn/', 'https://blog.zhfan.top/', 'https://blog.starsharbor.com', 'https://blog.lovelu.top/', 'https://luckqf.cn', 'https://blog.wenjing.xin/', 'https://lanxing.net/', 'https://huanxueblog.top/', 'https://blog.meta-code.top/', 'https://byer.top/', 'https://blog.june-pj.cn/', 'https://flytusky.top', 'https://www.ruanyifeng.com/blog/', 'https://android99.com', 'https://www.thyuu.com', 'https://blog.qjqq.cn/', 'https://blog.awaae001.top', 'https://blog.nalex.top', 'https://blog.redish101.top/', 'https://blog.ifeng.asia/', 'https://blog.alenliu.space/', 'https://www.yt-blog.top/', 'https://kmar.top/', 'https://yuuu.org', 'https://meuicat.com/', 'https://lisui.top/', 'https://gukaifeng.cn/', 'https://www.yvii.cn', 'https://pipuwong.com', 'https://dongjunke.cn', 'https://yisous.xyz', 'https://www.quenan.love', 'https://www.bokelhc.cn', 'https://fe32.top/', 'https://www.xingmail.cn/', 'https://uuanqin.top/', 'https://blog.sinzmise.top/', 'https://h4ck.org.cn/', 'https://xiangming.site/', 'https://yjvc.cn/index.php/', 'https://loli.fj.cn/', 'https://blog.fiveth.cc/', 'https://mingcy.xyz/', 'https://gyhwd.top/', 'https://www.efu.me/', 'https://blog.wsq127.top/', 'https://www.anxkj.top', 'https://blog.6ing.top/', 'https://www.gan1ser.top/', 'https://blog.wzwzx.cn/', 'https://blog.ciraos.top/', 'https://www.bbixb.top/', 'https://blog.opeach.cn', 'https://blog.imoyan.top/', 'https://blog.xing-ye.top/', 'https://blog.talen.top/', 'https://www.lxink.cn/', 'https://sunoapi.net/', 'https://www.qcqx.cn/', 'https://www.imaegoo.com/', 'https://www.henjinet.com/', 'https://www.lyszm.com/', 'https://blog.zhwei.tech/', 'https://blog.zhilu.cyou', 'http://dreamakerr.cn/']\n",
      "76\n"
     ]
    }
   ],
   "source": [
    "# 测试读取文件\n",
    "import requests\n",
    "\n",
    "# 目标JSON数据的URL\n",
    "json_url = 'https://blog.qyliu.top/flink_count.json'\n",
    "\n",
    "# 发送HTTP GET请求获取JSON数据\n",
    "response = requests.get(json_url)\n",
    "if response.status_code == 200:\n",
    "    data = response.json()  # 解析JSON数据\n",
    "else:\n",
    "    print(f\"Failed to retrieve data, status code: {response.status_code}\")\n",
    "    exit()\n",
    "\n",
    "# 提取所有的链接\n",
    "links = [item['link'] for item in data['link_list']]\n",
    "print(links)\n",
    "print(len(links))"
   ]
  },
  {
   "cell_type": "code",
   "execution_count": 5,
   "metadata": {},
   "outputs": [
    {
     "name": "stdout",
     "output_type": "stream",
     "text": [
      "[(0, 'https://blog.qyliu.top/'), (1, 'https://www.zouht.com/'), (2, 'https://akilar.top/'), (3, 'https://blog.zhheo.com/'), (4, 'https://blog.anheyu.com/'), (5, 'https://dusays.com'), (6, 'https://tianli-blog.club/'), (7, 'https://noionion.top/'), (8, 'https://blog.leonus.cn/'), (9, 'https://blog.imsyy.top/'), (10, 'https://blog.duolaa.asia/'), (11, 'https://blog.xsot.cn/'), (12, 'https://blog.zhfan.top/'), (13, 'https://blog.starsharbor.com'), (14, 'https://blog.lovelu.top/'), (15, 'https://luckqf.cn'), (16, 'https://blog.wenjing.xin/'), (17, 'https://lanxing.net/'), (18, 'https://huanxueblog.top/'), (19, 'https://blog.meta-code.top/'), (20, 'https://byer.top/'), (21, 'https://blog.june-pj.cn/'), (22, 'https://flytusky.top'), (23, 'https://www.ruanyifeng.com/blog/'), (24, 'https://android99.com'), (25, 'https://www.thyuu.com'), (26, 'https://blog.qjqq.cn/'), (27, 'https://blog.awaae001.top'), (28, 'https://blog.nalex.top'), (29, 'https://blog.redish101.top/'), (30, 'https://blog.ifeng.asia/'), (31, 'https://blog.alenliu.space/'), (32, 'https://www.yt-blog.top/'), (33, 'https://kmar.top/'), (34, 'https://yuuu.org'), (35, 'https://meuicat.com/'), (36, 'https://lisui.top/'), (37, 'https://gukaifeng.cn/'), (38, 'https://www.yvii.cn'), (39, 'https://pipuwong.com'), (40, 'https://dongjunke.cn'), (41, 'https://yisous.xyz'), (42, 'https://www.quenan.love'), (43, 'https://www.bokelhc.cn'), (44, 'https://fe32.top/'), (45, 'https://www.xingmail.cn/'), (46, 'https://uuanqin.top/'), (47, 'https://blog.sinzmise.top/'), (48, 'https://h4ck.org.cn/'), (49, 'https://xiangming.site/'), (50, 'https://yjvc.cn/index.php/'), (51, 'https://loli.fj.cn/'), (52, 'https://blog.fiveth.cc/'), (53, 'https://mingcy.xyz/'), (54, 'https://gyhwd.top/'), (55, 'https://www.efu.me/'), (56, 'https://blog.wsq127.top/'), (57, 'https://www.anxkj.top'), (58, 'https://blog.6ing.top/'), (59, 'https://www.gan1ser.top/'), (60, 'https://blog.wzwzx.cn/'), (61, 'https://blog.ciraos.top/'), (62, 'https://www.bbixb.top/'), (63, 'https://blog.opeach.cn'), (64, 'https://blog.imoyan.top/'), (65, 'https://blog.xing-ye.top/'), (66, 'https://blog.talen.top/'), (67, 'https://www.lxink.cn/'), (68, 'https://sunoapi.net/'), (69, 'https://www.qcqx.cn/'), (70, 'https://www.imaegoo.com/'), (71, 'https://www.henjinet.com/'), (72, 'https://www.lyszm.com/'), (73, 'https://blog.zhwei.tech/'), (74, 'https://blog.zhilu.cyou'), (75, 'http://dreamakerr.cn/')]\n",
      "76\n"
     ]
    }
   ],
   "source": [
    "# 原来读取文件的步骤\n",
    "import yaml\n",
    "\n",
    "yaml_file_path = \"./link.yml\"\n",
    "# 加载YAML数据\n",
    "with open(yaml_file_path, 'r', encoding='utf-8') as file:\n",
    "    data = yaml.safe_load(file)[:2]\n",
    "\n",
    "links_to_check = []\n",
    "index = 0  # 用于保持原始顺序的索引\n",
    "for section in data:\n",
    "    if 'link_list' in section:\n",
    "        for item in section['link_list']:\n",
    "            links_to_check.append((index, item['link']))  # 记录索引\n",
    "            index += 1\n",
    "\n",
    "print(links_to_check)\n",
    "print(len(links_to_check))"
   ]
  },
  {
   "cell_type": "code",
   "execution_count": 14,
   "metadata": {},
   "outputs": [],
   "source": [
    "# 尝试生成新的测试脚本\n",
    "import yaml\n",
    "import requests\n",
    "import warnings\n",
    "import concurrent.futures\n",
    "\n",
    "# 忽略警告信息\n",
    "warnings.filterwarnings(\"ignore\", message=\"Unverified HTTPS request is being made.*\")\n",
    "\n",
    "# 用户代理字符串，模仿浏览器\n",
    "user_agent = \"Mozilla/5.0 (Windows NT 10.0; Win64; x64) AppleWebKit/537.36 (KHTML, like Gecko) Chrome/58.0.3029.110 Safari/537.36\"\n",
    "\n",
    "# 检查链接是否可访问的函数\n",
    "def check_link_accessibility(link):\n",
    "    headers = {\"User-Agent\": user_agent}\n",
    "    try:\n",
    "        # 发送HEAD请求\n",
    "        response = requests.head(link, headers=headers, timeout=5)\n",
    "        if response.status_code == 200:\n",
    "            print(f\"[head]Link accessible: {link}\")\n",
    "            return [link, 1]  # 如果链接可访问，返回链接\n",
    "    except requests.RequestException:\n",
    "        pass  # 如果出现请求异常，不执行任何操作\n",
    "    \n",
    "    try:\n",
    "        # 如果HEAD请求失败，尝试发送GET请求\n",
    "        response = requests.get(link, headers=headers, timeout=5)\n",
    "        if response.status_code == 200:\n",
    "            print(f\"[get]Link accessible: {link}\")\n",
    "            return [link, 1]  # 如果GET请求成功，返回链接\n",
    "    except requests.RequestException:\n",
    "        pass  # 如果出现请求异常，不执行任何操作\n",
    "    \n",
    "    print(f\"[bug]Link inaccessible: {link}\")\n",
    "    return [link, -1]  # 如果所有请求都失败，返回-1"
   ]
  },
  {
   "cell_type": "code",
   "execution_count": 15,
   "metadata": {},
   "outputs": [
    {
     "name": "stdout",
     "output_type": "stream",
     "text": [
      "Total links: 76\n",
      "links: ['https://blog.qyliu.top/', 'https://www.zouht.com/', 'https://akilar.top/', 'https://blog.zhheo.com/', 'https://blog.anheyu.com/', 'https://dusays.com', 'https://tianli-blog.club/', 'https://noionion.top/', 'https://blog.leonus.cn/', 'https://blog.imsyy.top/', 'https://blog.duolaa.asia/', 'https://blog.xsot.cn/', 'https://blog.zhfan.top/', 'https://blog.starsharbor.com', 'https://blog.lovelu.top/', 'https://luckqf.cn', 'https://blog.wenjing.xin/', 'https://lanxing.net/', 'https://huanxueblog.top/', 'https://blog.meta-code.top/', 'https://byer.top/', 'https://blog.june-pj.cn/', 'https://flytusky.top', 'https://www.ruanyifeng.com/blog/', 'https://android99.com', 'https://www.thyuu.com', 'https://blog.qjqq.cn/', 'https://blog.awaae001.top', 'https://blog.nalex.top', 'https://blog.redish101.top/', 'https://blog.ifeng.asia/', 'https://blog.alenliu.space/', 'https://www.yt-blog.top/', 'https://kmar.top/', 'https://yuuu.org', 'https://meuicat.com/', 'https://lisui.top/', 'https://gukaifeng.cn/', 'https://www.yvii.cn', 'https://pipuwong.com', 'https://dongjunke.cn', 'https://yisous.xyz', 'https://www.quenan.love', 'https://www.bokelhc.cn', 'https://fe32.top/', 'https://www.xingmail.cn/', 'https://uuanqin.top/', 'https://blog.sinzmise.top/', 'https://h4ck.org.cn/', 'https://xiangming.site/', 'https://yjvc.cn/index.php/', 'https://loli.fj.cn/', 'https://blog.fiveth.cc/', 'https://mingcy.xyz/', 'https://gyhwd.top/', 'https://www.efu.me/', 'https://blog.wsq127.top/', 'https://www.anxkj.top', 'https://blog.6ing.top/', 'https://www.gan1ser.top/', 'https://blog.wzwzx.cn/', 'https://blog.ciraos.top/', 'https://www.bbixb.top/', 'https://blog.opeach.cn', 'https://blog.imoyan.top/', 'https://blog.xing-ye.top/', 'https://blog.talen.top/', 'https://www.lxink.cn/', 'https://sunoapi.net/', 'https://www.qcqx.cn/', 'https://www.imaegoo.com/', 'https://www.henjinet.com/', 'https://www.lyszm.com/', 'https://blog.zhwei.tech/', 'https://blog.zhilu.cyou', 'http://dreamakerr.cn/']\n"
     ]
    }
   ],
   "source": [
    "# 目标JSON数据的URL\n",
    "json_url = 'https://blog.qyliu.top/flink_count.json'\n",
    "\n",
    "# 发送HTTP GET请求获取JSON数据\n",
    "response = requests.get(json_url)\n",
    "if response.status_code == 200:\n",
    "    data = response.json()  # 解析JSON数据\n",
    "    links = [item['link'] for item in data['link_list']]  # 提取所有的链接\n",
    "else:\n",
    "    print(f\"Failed to retrieve data, status code: {response.status_code}\")\n",
    "    exit()\n",
    "\n",
    "print(f\"Total links: {len(links)}\")\n",
    "print(f\"links: {links}\")"
   ]
  },
  {
   "cell_type": "code",
   "execution_count": 16,
   "metadata": {},
   "outputs": [
    {
     "name": "stdout",
     "output_type": "stream",
     "text": [
      "[head]Link accessible: https://blog.zhheo.com/\n",
      "[head]Link accessible: https://blog.qyliu.top/\n",
      "[head]Link accessible: https://blog.leonus.cn/\n",
      "[head]Link accessible: https://www.zouht.com/\n",
      "[head]Link accessible: https://blog.imsyy.top/\n",
      "[head]Link accessible: https://dusays.com\n",
      "[head]Link accessible: https://tianli-blog.club/\n",
      "[head]Link accessible: https://noionion.top/\n",
      "[head]Link accessible: https://blog.xsot.cn/\n",
      "[head]Link accessible: https://blog.lovelu.top/\n",
      "[head]Link accessible: https://luckqf.cn\n",
      "[head]Link accessible: https://blog.meta-code.top/\n",
      "[head]Link accessible: https://blog.anheyu.com/\n",
      "[head]Link accessible: https://akilar.top/\n",
      "[head]Link accessible: https://blog.starsharbor.com\n",
      "[get]Link accessible: https://blog.duolaa.asia/\n",
      "[head]Link accessible: https://lanxing.net/\n",
      "[head]Link accessible: https://huanxueblog.top/\n",
      "[head]Link accessible: https://android99.com\n",
      "[head]Link accessible: https://flytusky.top\n",
      "[head]Link accessible: https://byer.top/\n",
      "[head]Link accessible: https://www.ruanyifeng.com/blog/\n",
      "[head]Link accessible: https://www.thyuu.com\n",
      "[head]Link accessible: https://blog.alenliu.space/\n",
      "[head]Link accessible: https://blog.redish101.top/\n",
      "[head]Link accessible: https://blog.awaae001.top\n",
      "[head]Link accessible: https://kmar.top/\n",
      "[get]Link accessible: https://blog.wenjing.xin/\n",
      "[head]Link accessible: https://meuicat.com/\n",
      "[head]Link accessible: https://blog.june-pj.cn/\n",
      "[head]Link accessible: https://yuuu.org\n",
      "[head]Link accessible: https://gukaifeng.cn/\n",
      "[bug]Link inaccessible: https://blog.zhfan.top/\n",
      "[head]Link accessible: https://www.yvii.cn\n",
      "[bug]Link inaccessible: https://blog.qjqq.cn/\n",
      "[get]Link accessible: https://dongjunke.cn\n",
      "[head]Link accessible: https://www.yt-blog.top/\n",
      "[head]Link accessible: https://lisui.top/\n",
      "[head]Link accessible: https://pipuwong.com\n",
      "[head]Link accessible: https://www.xingmail.cn/\n",
      "[head]Link accessible: https://blog.nalex.top\n",
      "[head]Link accessible: https://uuanqin.top/\n",
      "[bug]Link inaccessible: https://blog.ifeng.asia/\n",
      "[head]Link accessible: https://www.quenan.love\n",
      "[head]Link accessible: https://blog.sinzmise.top/\n",
      "[head]Link accessible: https://yisous.xyz\n",
      "[head]Link accessible: https://h4ck.org.cn/\n",
      "[head]Link accessible: https://xiangming.site/\n",
      "[head]Link accessible: https://yjvc.cn/index.php/\n",
      "[head]Link accessible: https://www.bokelhc.cn\n",
      "[head]Link accessible: https://blog.wsq127.top/\n",
      "[head]Link accessible: https://blog.6ing.top/\n",
      "[head]Link accessible: https://loli.fj.cn/\n",
      "[head]Link accessible: https://www.gan1ser.top/\n",
      "[head]Link accessible: https://blog.ciraos.top/\n",
      "[head]Link accessible: https://blog.opeach.cn\n",
      "[head]Link accessible: https://www.bbixb.top/\n",
      "[head]Link accessible: https://www.efu.me/\n",
      "[head]Link accessible: https://blog.wzwzx.cn/\n",
      "[head]Link accessible: https://blog.fiveth.cc/\n",
      "[head]Link accessible: https://www.lxink.cn/\n",
      "[head]Link accessible: https://gyhwd.top/\n",
      "[head]Link accessible: https://blog.imoyan.top/\n",
      "[head]Link accessible: https://www.anxkj.top\n",
      "[head]Link accessible: https://www.imaegoo.com/\n",
      "[head]Link accessible: https://www.qcqx.cn/\n",
      "[get]Link accessible: https://mingcy.xyz/\n",
      "[get]Link accessible: https://blog.talen.top/\n",
      "[head]Link accessible: https://www.henjinet.com/\n",
      "[get]Link accessible: http://dreamakerr.cn/\n",
      "[head]Link accessible: https://sunoapi.net/\n",
      "[head]Link accessible: https://blog.xing-ye.top/\n",
      "[head]Link accessible: https://www.lyszm.com/\n",
      "[head]Link accessible: https://blog.zhwei.tech/\n",
      "[head]Link accessible: https://blog.zhilu.cyou\n",
      "[bug]Link inaccessible: https://fe32.top/\n",
      "Accessible links: 76\n",
      "Accessible links: [['https://blog.qyliu.top/', 1], ['https://www.zouht.com/', 1], ['https://akilar.top/', 1], ['https://blog.zhheo.com/', 1], ['https://blog.anheyu.com/', 1], ['https://dusays.com', 1], ['https://tianli-blog.club/', 1], ['https://noionion.top/', 1], ['https://blog.leonus.cn/', 1], ['https://blog.imsyy.top/', 1], ['https://blog.duolaa.asia/', 1], ['https://blog.xsot.cn/', 1], ['https://blog.zhfan.top/', -1], ['https://blog.starsharbor.com', 1], ['https://blog.lovelu.top/', 1], ['https://luckqf.cn', 1], ['https://blog.wenjing.xin/', 1], ['https://lanxing.net/', 1], ['https://huanxueblog.top/', 1], ['https://blog.meta-code.top/', 1], ['https://byer.top/', 1], ['https://blog.june-pj.cn/', 1], ['https://flytusky.top', 1], ['https://www.ruanyifeng.com/blog/', 1], ['https://android99.com', 1], ['https://www.thyuu.com', 1], ['https://blog.qjqq.cn/', -1], ['https://blog.awaae001.top', 1], ['https://blog.nalex.top', 1], ['https://blog.redish101.top/', 1], ['https://blog.ifeng.asia/', -1], ['https://blog.alenliu.space/', 1], ['https://www.yt-blog.top/', 1], ['https://kmar.top/', 1], ['https://yuuu.org', 1], ['https://meuicat.com/', 1], ['https://lisui.top/', 1], ['https://gukaifeng.cn/', 1], ['https://www.yvii.cn', 1], ['https://pipuwong.com', 1], ['https://dongjunke.cn', 1], ['https://yisous.xyz', 1], ['https://www.quenan.love', 1], ['https://www.bokelhc.cn', 1], ['https://fe32.top/', -1], ['https://www.xingmail.cn/', 1], ['https://uuanqin.top/', 1], ['https://blog.sinzmise.top/', 1], ['https://h4ck.org.cn/', 1], ['https://xiangming.site/', 1], ['https://yjvc.cn/index.php/', 1], ['https://loli.fj.cn/', 1], ['https://blog.fiveth.cc/', 1], ['https://mingcy.xyz/', 1], ['https://gyhwd.top/', 1], ['https://www.efu.me/', 1], ['https://blog.wsq127.top/', 1], ['https://www.anxkj.top', 1], ['https://blog.6ing.top/', 1], ['https://www.gan1ser.top/', 1], ['https://blog.wzwzx.cn/', 1], ['https://blog.ciraos.top/', 1], ['https://www.bbixb.top/', 1], ['https://blog.opeach.cn', 1], ['https://blog.imoyan.top/', 1], ['https://blog.xing-ye.top/', 1], ['https://blog.talen.top/', 1], ['https://www.lxink.cn/', 1], ['https://sunoapi.net/', 1], ['https://www.qcqx.cn/', 1], ['https://www.imaegoo.com/', 1], ['https://www.henjinet.com/', 1], ['https://www.lyszm.com/', 1], ['https://blog.zhwei.tech/', 1], ['https://blog.zhilu.cyou', 1], ['http://dreamakerr.cn/', 1]]\n"
     ]
    }
   ],
   "source": [
    "# 使用ThreadPoolExecutor并发检查多个链接\n",
    "with concurrent.futures.ThreadPoolExecutor(max_workers=10) as executor:\n",
    "    results = list(executor.map(check_link_accessibility, links))\n",
    "print(f\"Accessible links: {len(results)}\")\n",
    "print(f\"Accessible links: {results}\")"
   ]
  },
  {
   "cell_type": "code",
   "execution_count": 17,
   "metadata": {},
   "outputs": [
    {
     "name": "stdout",
     "output_type": "stream",
     "text": [
      "Accessible links: 72\n",
      "Accessible links: ['https://blog.qyliu.top/', 'https://www.zouht.com/', 'https://akilar.top/', 'https://blog.zhheo.com/', 'https://blog.anheyu.com/', 'https://dusays.com', 'https://tianli-blog.club/', 'https://noionion.top/', 'https://blog.leonus.cn/', 'https://blog.imsyy.top/', 'https://blog.duolaa.asia/', 'https://blog.xsot.cn/', 'https://blog.starsharbor.com', 'https://blog.lovelu.top/', 'https://luckqf.cn', 'https://blog.wenjing.xin/', 'https://lanxing.net/', 'https://huanxueblog.top/', 'https://blog.meta-code.top/', 'https://byer.top/', 'https://blog.june-pj.cn/', 'https://flytusky.top', 'https://www.ruanyifeng.com/blog/', 'https://android99.com', 'https://www.thyuu.com', 'https://blog.awaae001.top', 'https://blog.nalex.top', 'https://blog.redish101.top/', 'https://blog.alenliu.space/', 'https://www.yt-blog.top/', 'https://kmar.top/', 'https://yuuu.org', 'https://meuicat.com/', 'https://lisui.top/', 'https://gukaifeng.cn/', 'https://www.yvii.cn', 'https://pipuwong.com', 'https://dongjunke.cn', 'https://yisous.xyz', 'https://www.quenan.love', 'https://www.bokelhc.cn', 'https://www.xingmail.cn/', 'https://uuanqin.top/', 'https://blog.sinzmise.top/', 'https://h4ck.org.cn/', 'https://xiangming.site/', 'https://yjvc.cn/index.php/', 'https://loli.fj.cn/', 'https://blog.fiveth.cc/', 'https://mingcy.xyz/', 'https://gyhwd.top/', 'https://www.efu.me/', 'https://blog.wsq127.top/', 'https://www.anxkj.top', 'https://blog.6ing.top/', 'https://www.gan1ser.top/', 'https://blog.wzwzx.cn/', 'https://blog.ciraos.top/', 'https://www.bbixb.top/', 'https://blog.opeach.cn', 'https://blog.imoyan.top/', 'https://blog.xing-ye.top/', 'https://blog.talen.top/', 'https://www.lxink.cn/', 'https://sunoapi.net/', 'https://www.qcqx.cn/', 'https://www.imaegoo.com/', 'https://www.henjinet.com/', 'https://www.lyszm.com/', 'https://blog.zhwei.tech/', 'https://blog.zhilu.cyou', 'http://dreamakerr.cn/']\n",
      "Inaccessible links: 4\n",
      "Inaccessible links: ['https://blog.zhfan.top/', 'https://blog.qjqq.cn/', 'https://blog.ifeng.asia/', 'https://fe32.top/']\n"
     ]
    }
   ],
   "source": [
    "# 分割可达和不可达的链接\n",
    "accessible_results = [result for result in results if result[1] == 1]\n",
    "inaccessible_results = [result for result in results if result[1] == -1]\n",
    "# 从结果列表中提取链接\n",
    "accessible_links = [result[0] for result in accessible_results]\n",
    "inaccessible_links = [result[0] for result in inaccessible_results]\n",
    "print(f\"Accessible links: {len(accessible_links)}\")\n",
    "print(f\"Accessible links: {accessible_links}\")\n",
    "print(f\"Inaccessible links: {len(inaccessible_links)}\")\n",
    "print(f\"Inaccessible links: {inaccessible_links}\")"
   ]
  },
  {
   "cell_type": "code",
   "execution_count": 18,
   "metadata": {},
   "outputs": [
    {
     "name": "stdout",
     "output_type": "stream",
     "text": [
      "检查完成，结果已保存至 './result.json' 文件。\n"
     ]
    }
   ],
   "source": [
    "# 将结果写入JSON文件\n",
    "output_json_path = './result.json'\n",
    "with open(output_json_path, 'w', encoding='utf-8') as file:\n",
    "    json.dump({\n",
    "        'accessible_links': accessible_links,\n",
    "        'inaccessible_links': inaccessible_links\n",
    "    }, file, ensure_ascii=False, indent=4)\n",
    "\n",
    "print(f\"检查完成，结果已保存至 '{output_json_path}' 文件。\")"
   ]
  },
  {
   "cell_type": "code",
   "execution_count": null,
   "metadata": {},
   "outputs": [],
   "source": []
  }
 ],
 "metadata": {
  "kernelspec": {
   "display_name": "base",
   "language": "python",
   "name": "python3"
  },
  "language_info": {
   "codemirror_mode": {
    "name": "ipython",
    "version": 3
   },
   "file_extension": ".py",
   "mimetype": "text/x-python",
   "name": "python",
   "nbconvert_exporter": "python",
   "pygments_lexer": "ipython3",
   "version": "3.11.5"
  }
 },
 "nbformat": 4,
 "nbformat_minor": 2
}
